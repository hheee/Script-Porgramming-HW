{
 "cells": [
  {
   "cell_type": "code",
   "execution_count": 13,
   "metadata": {
    "scrolled": true
   },
   "outputs": [
    {
     "name": "stdout",
     "output_type": "stream",
     "text": [
      "Python Hello\n"
     ]
    }
   ],
   "source": [
    "a = \"Hello Python\"\n",
    "a = a[6:] + ' ' + a[0:5]\n",
    "print(a)"
   ]
  },
  {
   "cell_type": "markdown",
   "metadata": {},
   "source": [
    "문제 1\n",
    ">a에 Hello Python이 저장되어 있었는데 a[6]부터 끝까지인 Python + 띄어쓰기 + a[0]부터 a[5]전까지인 Hello를 새로 저장한다."
   ]
  },
  {
   "cell_type": "code",
   "execution_count": 14,
   "metadata": {
    "scrolled": true
   },
   "outputs": [
    {
     "name": "stdout",
     "output_type": "stream",
     "text": [
      "World Python Hello\n"
     ]
    }
   ],
   "source": [
    "b = \"Hello Python World\"\n",
    "c = b[13:]\n",
    "b = b[6:12] + ' ' + b[:5]\n",
    "print(c +' ' + b)"
   ]
  },
  {
   "cell_type": "markdown",
   "metadata": {},
   "source": [
    "문제 2\n",
    ">b에 Hello Python World가 저장되어 있었는데 b[13]부터 끝까지인 World를 c에 새로 저장하고, b에는 b[6]부터 b[12]전까지인 Python + 띄어쓰기 + b[0]부터 b[5]전까지인 Hello를 새로 저장한다."
   ]
  },
  {
   "cell_type": "code",
   "execution_count": 15,
   "metadata": {},
   "outputs": [
    {
     "name": "stdout",
     "output_type": "stream",
     "text": [
      "olleH\n"
     ]
    }
   ],
   "source": [
    "c = \"Hello\"\n",
    "c = c[::-1]\n",
    "print(c)"
   ]
  },
  {
   "cell_type": "markdown",
   "metadata": {},
   "source": [
    "문제 3\n",
    ">c에 Hello가 저장되어 있었는데 저장되어 있는 모든 문자를 뒤에서부터 출력하는 c[::-1]을 새로 c에 저장한다."
   ]
  },
  {
   "cell_type": "code",
   "execution_count": 8,
   "metadata": {
    "scrolled": true
   },
   "outputs": [
    {
     "name": "stdout",
     "output_type": "stream",
     "text": [
      "p\n",
      "p\n",
      "p\n",
      "ytho\n",
      "\n"
     ]
    }
   ],
   "source": [
    "s = \"python\"\n",
    "print(s[0])\n",
    "print(s[0][0])\n",
    "print(s[0][0][0])\n",
    "#print(s[-100])\n",
    "#print(s[100])\n",
    "#print(s[-100, 100])\n",
    "print(s[1:-1])\n",
    "print(s[3:-3])"
   ]
  },
  {
   "cell_type": "markdown",
   "metadata": {},
   "source": [
    "문제 4\n",
    ">1. s[0], s[0][0], s[0][0][0]은 각각 어떤 값이 나오는지 확인하고 그 이유를 나름대로 설명해 보시오.\n",
    ">>모두 p가 나온다. 셋 다 첫번째 값을 의미하기 때문에 첫글자인 p가 나오는 것이다.\n",
    "\n",
    ">2. s[-100], s[100]은 값이 나오는지 에러가 나오는지 확인하고 그 결과에 대한 이유를 나름대로 설명해 보시오.\n",
    ">>에러가 난다. s[-100]은 뒤에서부터 100번째 값을 나타내고 s[100]은 101번째 값을 나타내는데 둘 다 존재하지 않기 때문에 에러가 난다.\n",
    "\n",
    ">3. s[-100, 100]은 값이 나오는지 에러가 나오는지 확인하고 그 결과에 대한 이유를 나름대로 설명해 보시오.\n",
    ">>에러가 난다. s는 일차원 리스트이기 때문에 s[100, 100]에는 아무런 값이 존재하지 않기 때문에 에러가 난다.\n",
    "\n",
    ">4. s[1:-1]의 결과를 확인하고 그 결과에 대한 이유를 정확하게 설명하시오.\n",
    ">>ytho가 나온다. s[1:-1]은 s[1]후부터 s[-1]전까지 출력한다. 그래서 s[1]후인 y부터 s[-1]전인 o까지 출력된다.\n",
    "\n",
    ">5. s[3:-3]의 결과를 확인하고 그 결과에 대한 이유를 정확하게 설명하시오.\n",
    ">>s[3:-3]은 s[3]후부터 s[-3]전까지 출력한다. 그래서 s[3]부터 s[-4]까지 출력해야 하는데 s[-4]가 s[3]보다 앞에 존재하기 때문에 출력되지 않는다."
   ]
  },
  {
   "cell_type": "code",
   "execution_count": 9,
   "metadata": {
    "scrolled": false
   },
   "outputs": [
    {
     "name": "stdout",
     "output_type": "stream",
     "text": [
      "1\n",
      "3\n",
      "5\n",
      "7\n",
      "9\n",
      "11\n",
      "13\n",
      "15\n",
      "17\n",
      "19\n",
      "21\n",
      "23\n",
      "25\n",
      "27\n",
      "29\n",
      "31\n",
      "33\n",
      "35\n",
      "37\n",
      "39\n",
      "41\n",
      "43\n",
      "45\n",
      "47\n",
      "49\n",
      "51\n",
      "53\n",
      "55\n",
      "57\n",
      "59\n",
      "61\n",
      "63\n",
      "65\n",
      "67\n",
      "69\n",
      "71\n",
      "73\n",
      "75\n",
      "77\n",
      "79\n",
      "81\n",
      "83\n",
      "85\n",
      "87\n",
      "89\n",
      "91\n",
      "93\n",
      "95\n",
      "97\n",
      "99\n"
     ]
    }
   ],
   "source": [
    "for x in range(1, 101):\n",
    "    if x % 2 == 1:\n",
    "        print(x)"
   ]
  },
  {
   "cell_type": "markdown",
   "metadata": {},
   "source": [
    "문제 5\n",
    ">1부터 100까지 x를 하나씩 더하면서 x가 2로 나눴을 때 나머지가 1이면(홀수이면) 출력한다."
   ]
  },
  {
   "cell_type": "code",
   "execution_count": 18,
   "metadata": {},
   "outputs": [
    {
     "name": "stdout",
     "output_type": "stream",
     "text": [
      "2550\n"
     ]
    }
   ],
   "source": [
    "n = 0;\n",
    "i = 0;\n",
    "while i < 101:\n",
    "    i = i + 1\n",
    "    if i % 2 == 0:\n",
    "        n = n + i\n",
    "print(n)"
   ]
  },
  {
   "cell_type": "markdown",
   "metadata": {},
   "source": [
    "문제 6\n",
    ">0부터 하나씩 증가시키는 변수 i와 더한 숫자를 저장할 변수 n을 선언한다.\n",
    ">i가 1부터 100이 될 때까지 i를 2로 나눈 나머지가 0이면(짝수이면) n에 i를 더한다.\n",
    ">총 합인 n을 출력한다."
   ]
  },
  {
   "cell_type": "code",
   "execution_count": 19,
   "metadata": {},
   "outputs": [
    {
     "name": "stdout",
     "output_type": "stream",
     "text": [
      "정수를 입력하세요.3125\n",
      "5213\n"
     ]
    }
   ],
   "source": [
    "n = input(\"정수를 입력하세요.\")\n",
    "print(n[::-1])"
   ]
  },
  {
   "cell_type": "markdown",
   "metadata": {},
   "source": [
    "문제 7\n",
    ">input을 이용해 정수를 입력받아 거꾸로 출력하는 n[::-1]을 사용해 거꾸로 출력한다."
   ]
  },
  {
   "cell_type": "code",
   "execution_count": 1,
   "metadata": {},
   "outputs": [
    {
     "name": "stdout",
     "output_type": "stream",
     "text": [
      "정수를 입력하세요.20\n",
      "2\n",
      "3\n",
      "5\n",
      "7\n",
      "11\n",
      "13\n",
      "17\n",
      "19\n"
     ]
    }
   ],
   "source": [
    "n = int(input(\"정수를 입력하세요.\"))\n",
    "for i in range(2, n+1):\n",
    "    for j in range(2, i+1):\n",
    "        if i % j == 0:\n",
    "            break;\n",
    "    if i == j:\n",
    "        print(i)"
   ]
  },
  {
   "cell_type": "markdown",
   "metadata": {},
   "source": [
    "문제 8\n",
    ">input을 이용해 정수를 입력받는다. 이중 반복문을 사용해 n까지의 정수인 i, 나누는 수인 j를 이용해 i 나누기 j의 나머지가 0이고 i가 j와 같으면 1과 자기 자신으로만 나누어지는 수이기 때문에 소수라고 판단해 출력한다."
   ]
  },
  {
   "cell_type": "markdown",
   "metadata": {},
   "source": [
    "소감\n",
    ">파이썬을 처음 배워봐서 어려운 점이 많았다. 그래도 c에 비하면 해야하는 것이 훨씬 적다고 생각했다. 처음부터 파이썬으로 배운다면 헷갈리지 않을 것 같기도 하고 c를 배워서 이해가 가는 것 같기도 해서 재미있었다. 아직 초보자 수준이지만 다음에 배울 것이 기대된다. 추가 문제는 풀지 못했지만 더 공부해서 다시 풀어봐야겠다."
   ]
  }
 ],
 "metadata": {
  "kernelspec": {
   "display_name": "Python 3",
   "language": "python",
   "name": "python3"
  },
  "language_info": {
   "codemirror_mode": {
    "name": "ipython",
    "version": 3
   },
   "file_extension": ".py",
   "mimetype": "text/x-python",
   "name": "python",
   "nbconvert_exporter": "python",
   "pygments_lexer": "ipython3",
   "version": "3.6.1"
  }
 },
 "nbformat": 4,
 "nbformat_minor": 2
}
